{
 "cells": [
  {
   "cell_type": "code",
   "execution_count": 1,
   "metadata": {},
   "outputs": [],
   "source": [
    "import matplotlib.pyplot as plt\n",
    "import pandas as pd\n",
    "import numpy as np\n",
    "import sklearn\n",
    "from sklearn.preprocessing import StandardScaler, OneHotEncoder\n",
    "from sklearn.model_selection import train_test_split\n",
    "from sklearn.metrics import f1_score\n",
    "from sklearn.ensemble import RandomForestClassifier\n"
   ]
  },
  {
   "cell_type": "code",
   "execution_count": 2,
   "metadata": {},
   "outputs": [],
   "source": [
    "df = pd.read_csv('train_data.csv')"
   ]
  },
  {
   "cell_type": "code",
   "execution_count": 3,
   "metadata": {},
   "outputs": [
    {
     "name": "stdout",
     "output_type": "stream",
     "text": [
      "<class 'pandas.core.frame.DataFrame'>\n",
      "RangeIndex: 23999 entries, 0 to 23998\n",
      "Data columns (total 25 columns):\n",
      " #   Column                      Non-Null Count  Dtype\n",
      "---  ------                      --------------  -----\n",
      " 0   ID                          23999 non-null  int64\n",
      " 1   LIMIT_BAL                   23999 non-null  int64\n",
      " 2   SEX                         23999 non-null  int64\n",
      " 3   EDUCATION                   23999 non-null  int64\n",
      " 4   MARRIAGE                    23999 non-null  int64\n",
      " 5   AGE                         23999 non-null  int64\n",
      " 6   PAY_0                       23999 non-null  int64\n",
      " 7   PAY_2                       23999 non-null  int64\n",
      " 8   PAY_3                       23999 non-null  int64\n",
      " 9   PAY_4                       23999 non-null  int64\n",
      " 10  PAY_5                       23999 non-null  int64\n",
      " 11  PAY_6                       23999 non-null  int64\n",
      " 12  BILL_AMT1                   23999 non-null  int64\n",
      " 13  BILL_AMT2                   23999 non-null  int64\n",
      " 14  BILL_AMT3                   23999 non-null  int64\n",
      " 15  BILL_AMT4                   23999 non-null  int64\n",
      " 16  BILL_AMT5                   23999 non-null  int64\n",
      " 17  BILL_AMT6                   23999 non-null  int64\n",
      " 18  PAY_AMT1                    23999 non-null  int64\n",
      " 19  PAY_AMT2                    23999 non-null  int64\n",
      " 20  PAY_AMT3                    23999 non-null  int64\n",
      " 21  PAY_AMT4                    23999 non-null  int64\n",
      " 22  PAY_AMT5                    23999 non-null  int64\n",
      " 23  PAY_AMT6                    23999 non-null  int64\n",
      " 24  default payment next month  23999 non-null  int64\n",
      "dtypes: int64(25)\n",
      "memory usage: 4.6 MB\n"
     ]
    }
   ],
   "source": [
    "df.info()"
   ]
  },
  {
   "cell_type": "code",
   "execution_count": 4,
   "metadata": {},
   "outputs": [],
   "source": [
    "SEX={1:'male', 2:'female'}"
   ]
  },
  {
   "cell_type": "code",
   "execution_count": 5,
   "metadata": {},
   "outputs": [],
   "source": [
    "df['SEX'] = df.SEX.replace(SEX)"
   ]
  },
  {
   "cell_type": "code",
   "execution_count": 6,
   "metadata": {},
   "outputs": [
    {
     "data": {
      "text/plain": [
       "female    14486\n",
       "male       9513\n",
       "Name: SEX, dtype: int64"
      ]
     },
     "execution_count": 6,
     "metadata": {},
     "output_type": "execute_result"
    }
   ],
   "source": [
    "df.SEX.value_counts()"
   ]
  },
  {
   "cell_type": "code",
   "execution_count": 7,
   "metadata": {},
   "outputs": [
    {
     "data": {
      "text/plain": [
       "university         11188\n",
       "graduate school     8442\n",
       "high school         3994\n",
       "unknown              264\n",
       "others               100\n",
       "0                     11\n",
       "Name: EDUCATION, dtype: int64"
      ]
     },
     "execution_count": 7,
     "metadata": {},
     "output_type": "execute_result"
    }
   ],
   "source": [
    "EDUCATION={1:'graduate school', 2:'university', 3:'high school', 4:'others', 5:'unknown', 6:'unknown'}\n",
    "df['EDUCATION'] = df.EDUCATION.replace(EDUCATION)\n",
    "df.EDUCATION.value_counts()"
   ]
  },
  {
   "cell_type": "code",
   "execution_count": 8,
   "metadata": {},
   "outputs": [
    {
     "data": {
      "text/plain": [
       "single     12735\n",
       "married    10958\n",
       "others       263\n",
       "0             43\n",
       "Name: MARRIAGE, dtype: int64"
      ]
     },
     "execution_count": 8,
     "metadata": {},
     "output_type": "execute_result"
    }
   ],
   "source": [
    "MARRIAGE={1:'married', 2:'single', 3:'others'}\n",
    "df['MARRIAGE'] = df.MARRIAGE.replace(MARRIAGE)\n",
    "df.MARRIAGE.value_counts()"
   ]
  },
  {
   "cell_type": "code",
   "execution_count": 9,
   "metadata": {},
   "outputs": [
    {
     "name": "stdout",
     "output_type": "stream",
     "text": [
      "<class 'pandas.core.frame.DataFrame'>\n",
      "Int64Index: 23945 entries, 0 to 23998\n",
      "Data columns (total 25 columns):\n",
      " #   Column                      Non-Null Count  Dtype \n",
      "---  ------                      --------------  ----- \n",
      " 0   ID                          23945 non-null  int64 \n",
      " 1   LIMIT_BAL                   23945 non-null  int64 \n",
      " 2   SEX                         23945 non-null  object\n",
      " 3   EDUCATION                   23945 non-null  object\n",
      " 4   MARRIAGE                    23945 non-null  object\n",
      " 5   AGE                         23945 non-null  int64 \n",
      " 6   PAY_0                       23945 non-null  int64 \n",
      " 7   PAY_2                       23945 non-null  int64 \n",
      " 8   PAY_3                       23945 non-null  int64 \n",
      " 9   PAY_4                       23945 non-null  int64 \n",
      " 10  PAY_5                       23945 non-null  int64 \n",
      " 11  PAY_6                       23945 non-null  int64 \n",
      " 12  BILL_AMT1                   23945 non-null  int64 \n",
      " 13  BILL_AMT2                   23945 non-null  int64 \n",
      " 14  BILL_AMT3                   23945 non-null  int64 \n",
      " 15  BILL_AMT4                   23945 non-null  int64 \n",
      " 16  BILL_AMT5                   23945 non-null  int64 \n",
      " 17  BILL_AMT6                   23945 non-null  int64 \n",
      " 18  PAY_AMT1                    23945 non-null  int64 \n",
      " 19  PAY_AMT2                    23945 non-null  int64 \n",
      " 20  PAY_AMT3                    23945 non-null  int64 \n",
      " 21  PAY_AMT4                    23945 non-null  int64 \n",
      " 22  PAY_AMT5                    23945 non-null  int64 \n",
      " 23  PAY_AMT6                    23945 non-null  int64 \n",
      " 24  default payment next month  23945 non-null  int64 \n",
      "dtypes: int64(22), object(3)\n",
      "memory usage: 4.7+ MB\n"
     ]
    }
   ],
   "source": [
    "df = df[df['MARRIAGE']!=0]\n",
    "df = df[df['SEX']!=0]\n",
    "df = df[df['EDUCATION']!=0]\n",
    "df.info()"
   ]
  },
  {
   "cell_type": "code",
   "execution_count": 10,
   "metadata": {},
   "outputs": [],
   "source": [
    "df['PAY_0'] = df['PAY_0'].map(str)\n",
    "df['PAY_2'] = df['PAY_2'].map(str)\n",
    "df['PAY_3'] = df['PAY_3'].map(str)\n",
    "df['PAY_4'] = df['PAY_4'].map(str)\n",
    "df['PAY_5'] = df['PAY_5'].map(str)\n",
    "df['PAY_6'] = df['PAY_6'].map(str)"
   ]
  },
  {
   "cell_type": "code",
   "execution_count": 11,
   "metadata": {},
   "outputs": [
    {
     "name": "stdout",
     "output_type": "stream",
     "text": [
      "<class 'pandas.core.frame.DataFrame'>\n",
      "Int64Index: 23945 entries, 0 to 23998\n",
      "Data columns (total 25 columns):\n",
      " #   Column                      Non-Null Count  Dtype \n",
      "---  ------                      --------------  ----- \n",
      " 0   ID                          23945 non-null  int64 \n",
      " 1   LIMIT_BAL                   23945 non-null  int64 \n",
      " 2   SEX                         23945 non-null  object\n",
      " 3   EDUCATION                   23945 non-null  object\n",
      " 4   MARRIAGE                    23945 non-null  object\n",
      " 5   AGE                         23945 non-null  int64 \n",
      " 6   PAY_0                       23945 non-null  object\n",
      " 7   PAY_2                       23945 non-null  object\n",
      " 8   PAY_3                       23945 non-null  object\n",
      " 9   PAY_4                       23945 non-null  object\n",
      " 10  PAY_5                       23945 non-null  object\n",
      " 11  PAY_6                       23945 non-null  object\n",
      " 12  BILL_AMT1                   23945 non-null  int64 \n",
      " 13  BILL_AMT2                   23945 non-null  int64 \n",
      " 14  BILL_AMT3                   23945 non-null  int64 \n",
      " 15  BILL_AMT4                   23945 non-null  int64 \n",
      " 16  BILL_AMT5                   23945 non-null  int64 \n",
      " 17  BILL_AMT6                   23945 non-null  int64 \n",
      " 18  PAY_AMT1                    23945 non-null  int64 \n",
      " 19  PAY_AMT2                    23945 non-null  int64 \n",
      " 20  PAY_AMT3                    23945 non-null  int64 \n",
      " 21  PAY_AMT4                    23945 non-null  int64 \n",
      " 22  PAY_AMT5                    23945 non-null  int64 \n",
      " 23  PAY_AMT6                    23945 non-null  int64 \n",
      " 24  default payment next month  23945 non-null  int64 \n",
      "dtypes: int64(16), object(9)\n",
      "memory usage: 4.7+ MB\n"
     ]
    }
   ],
   "source": [
    "df.info()"
   ]
  },
  {
   "cell_type": "code",
   "execution_count": 12,
   "metadata": {},
   "outputs": [],
   "source": [
    "X = df.drop(axis=1, labels=['ID', 'default payment next month'])"
   ]
  },
  {
   "cell_type": "code",
   "execution_count": 13,
   "metadata": {},
   "outputs": [],
   "source": [
    "y =df['default payment next month']"
   ]
  },
  {
   "cell_type": "code",
   "execution_count": 14,
   "metadata": {},
   "outputs": [],
   "source": [
    "X_train, X_test, y_train, y_test = train_test_split(X, y, random_state=42)"
   ]
  },
  {
   "cell_type": "code",
   "execution_count": 15,
   "metadata": {},
   "outputs": [],
   "source": [
    "ohe_features = ['SEX', 'EDUCATION', 'MARRIAGE', \n",
    "                'PAY_0', 'PAY_2', 'PAY_3', \n",
    "                'PAY_4', 'PAY_5', 'PAY_6']\n",
    "\n",
    "cont_features = ['LIMIT_BAL', 'AGE', 'BILL_AMT1',\n",
    "                 'BILL_AMT2', 'BILL_AMT3', 'BILL_AMT4',\n",
    "                 'BILL_AMT5', 'BILL_AMT6', 'PAY_AMT1',\n",
    "                 'PAY_AMT2', 'PAY_AMT3', 'PAY_AMT4',\n",
    "                 'PAY_AMT5', 'PAY_AMT6']\n",
    "\n",
    "X_train_ohe = X_train[ohe_features]\n",
    "X_test_ohe = X_test[ohe_features]\n",
    "X_train_cont = X_train[cont_features].astype(float)\n",
    "X_test_cont = X_test[cont_features].astype(float)\n",
    "\n",
    "X_train_index = X_train.index\n",
    "X_test_index = X_test.index\n",
    "\n",
    "ohe = OneHotEncoder(handle_unknown='ignore')\n",
    "ss = StandardScaler()\n",
    "X_train_encoded = ohe.fit_transform(X_train_ohe)\n",
    "X_test_encoded = ohe.transform(X_test_ohe)\n",
    "X_train_scaled = pd.DataFrame(ss.fit_transform(X_train_cont), columns=X_train[cont_features].columns, index=X_train_index)\n",
    "X_test_scaled = pd.DataFrame(ss.transform(X_test_cont), columns=X_test[cont_features].columns, index=X_test_index)\n",
    "\n",
    "train_columns = ohe.get_feature_names(input_features=X_train_ohe.columns)\n",
    "test_columns = ohe.get_feature_names(input_features=X_test_ohe.columns)\n",
    "X_train_processed = pd.DataFrame(X_train_encoded.todense(), columns=train_columns, index=X_train_index)\n",
    "X_test_processed = pd.DataFrame(X_test_encoded.todense(), columns=test_columns, index=X_test_index)\n",
    "\n",
    "X_train_all = pd.concat([X_train_scaled, X_train_processed], axis=1)\n",
    "X_test_all = pd.concat([X_test_scaled, X_test_processed], axis=1)"
   ]
  },
  {
   "cell_type": "code",
   "execution_count": 16,
   "metadata": {},
   "outputs": [
    {
     "data": {
      "text/plain": [
       "RandomForestClassifier(n_estimators=500)"
      ]
     },
     "execution_count": 16,
     "metadata": {},
     "output_type": "execute_result"
    }
   ],
   "source": [
    "rf = RandomForestClassifier(n_estimators=500)\n",
    "rf.fit(X_train_all, y_train)"
   ]
  },
  {
   "cell_type": "code",
   "execution_count": 17,
   "metadata": {},
   "outputs": [],
   "source": [
    "y_hat_train = rf.predict(X_train_all)\n",
    "y_hat_test = rf.predict(X_test_all)"
   ]
  },
  {
   "cell_type": "code",
   "execution_count": 18,
   "metadata": {},
   "outputs": [
    {
     "data": {
      "text/plain": [
       "0.4664750957854406"
      ]
     },
     "execution_count": 18,
     "metadata": {},
     "output_type": "execute_result"
    }
   ],
   "source": [
    "f1_score(y_test, y_hat_test)"
   ]
  },
  {
   "cell_type": "code",
   "execution_count": 19,
   "metadata": {},
   "outputs": [
    {
     "data": {
      "text/plain": [
       "0.9992443324937028"
      ]
     },
     "execution_count": 19,
     "metadata": {},
     "output_type": "execute_result"
    }
   ],
   "source": [
    "f1_score(y_train, y_hat_train)"
   ]
  },
  {
   "cell_type": "markdown",
   "metadata": {},
   "source": [
    "### Check for class imbalance"
   ]
  },
  {
   "cell_type": "code",
   "execution_count": 20,
   "metadata": {},
   "outputs": [
    {
     "data": {
      "text/plain": [
       "0    18640\n",
       "1     5305\n",
       "Name: default payment next month, dtype: int64"
      ]
     },
     "execution_count": 20,
     "metadata": {},
     "output_type": "execute_result"
    }
   ],
   "source": [
    "df['default payment next month'].value_counts()"
   ]
  },
  {
   "cell_type": "code",
   "execution_count": 21,
   "metadata": {},
   "outputs": [],
   "source": [
    "from imblearn.over_sampling import SMOTE"
   ]
  },
  {
   "cell_type": "code",
   "execution_count": 22,
   "metadata": {},
   "outputs": [],
   "source": [
    "smote = SMOTE(random_state=42)\n",
    "X_smote, y_smote = smote.fit_sample(X_train_all, y_train)"
   ]
  },
  {
   "cell_type": "code",
   "execution_count": 24,
   "metadata": {},
   "outputs": [
    {
     "data": {
      "text/plain": [
       "RandomForestClassifier(n_estimators=500)"
      ]
     },
     "execution_count": 24,
     "metadata": {},
     "output_type": "execute_result"
    }
   ],
   "source": [
    "rf_2 = RandomForestClassifier(n_estimators=500)\n",
    "rf_2.fit(X_smote, y_smote)"
   ]
  },
  {
   "cell_type": "code",
   "execution_count": 25,
   "metadata": {},
   "outputs": [],
   "source": [
    "y_hat_train = rf_2.predict(X_smote)\n",
    "y_hat_test = rf_2.predict(X_test_all)"
   ]
  },
  {
   "cell_type": "code",
   "execution_count": 26,
   "metadata": {},
   "outputs": [
    {
     "data": {
      "text/plain": [
       "0.5117982099267697"
      ]
     },
     "execution_count": 26,
     "metadata": {},
     "output_type": "execute_result"
    }
   ],
   "source": [
    "f1_score(y_test, y_hat_test)"
   ]
  },
  {
   "cell_type": "code",
   "execution_count": 27,
   "metadata": {},
   "outputs": [
    {
     "data": {
      "text/plain": [
       "0.9997854691075515"
      ]
     },
     "execution_count": 27,
     "metadata": {},
     "output_type": "execute_result"
    }
   ],
   "source": [
    "f1_score(y_smote, y_hat_train)"
   ]
  },
  {
   "cell_type": "code",
   "execution_count": null,
   "metadata": {},
   "outputs": [],
   "source": []
  }
 ],
 "metadata": {
  "kernelspec": {
   "display_name": "Python 3",
   "language": "python",
   "name": "python3"
  },
  "language_info": {
   "codemirror_mode": {
    "name": "ipython",
    "version": 3
   },
   "file_extension": ".py",
   "mimetype": "text/x-python",
   "name": "python",
   "nbconvert_exporter": "python",
   "pygments_lexer": "ipython3",
   "version": "3.8.3"
  }
 },
 "nbformat": 4,
 "nbformat_minor": 4
}
